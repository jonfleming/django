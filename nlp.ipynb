{
 "metadata": {
  "language_info": {
   "codemirror_mode": {
    "name": "ipython",
    "version": 3
   },
   "file_extension": ".py",
   "mimetype": "text/x-python",
   "name": "python",
   "nbconvert_exporter": "python",
   "pygments_lexer": "ipython3",
   "version": "3.7.8-final"
  },
  "orig_nbformat": 2,
  "kernelspec": {
   "name": "python3",
   "display_name": "Python 3"
  }
 },
 "nbformat": 4,
 "nbformat_minor": 2,
 "cells": [
  {
   "cell_type": "code",
   "execution_count": 1,
   "metadata": {},
   "outputs": [],
   "source": [
    "import spacy\n",
    "from spacy.lang.en.stop_words import STOP_WORDS\n",
    "from collections import Counter\n",
    "from string import punctuation\n",
    "nlp = spacy.load('en_core_web_lg')\n",
    "\n",
    "# Summarize Text\n",
    "# https://medium.com/better-programming/extractive-text-summarization-using-spacy-in-python-88ab96d1fd97\n",
    "def top_sentence(text, limit):\n",
    "    keyword = []\n",
    "    pos_tag = ['PROPN', 'ADJ', 'NOUN', 'VERB']\n",
    "    doc = nlp(text)\n",
    "    stopwords = list(STOP_WORDS)\n",
    "    for token in doc: \n",
    "        if(token.text in stopwords or token.text in punctuation):\n",
    "            continue \n",
    "        if(token.pos_ in pos_tag):\n",
    "            keyword.append(token.text.lower()) \n",
    "    \n",
    "    # Count key words and normalize frequency (most common will have 1.0)\n",
    "    freq_word = Counter(keyword) \n",
    "    max_freq = Counter(keyword).most_common(1)[0][1] \n",
    "    for w in freq_word:\n",
    "        freq_word[w] = (freq_word[w]/max_freq) \n",
    "\n",
    "    # Assign importance to each sentence\n",
    "    sent_strength={}\n",
    "    for sent in doc.sents:\n",
    "        for word in sent:\n",
    "            lower = word.text.lower()\n",
    "            if lower in freq_word.keys():\n",
    "                if sent in sent_strength.keys():\n",
    "                    sent_strength[sent]+=freq_word[lower]\n",
    "                else:\n",
    "                    sent_strength[sent]=freq_word[lower]\n",
    "\n",
    "    summary = []\n",
    "    sorted_x = sorted(sent_strength.items(), key=lambda kv: kv[1], reverse=True) \n",
    "        \n",
    "    counter = 0\n",
    "    for i in range(len(sorted_x)):\n",
    "        summary.append(str(sorted_x[i][0]).capitalize()) \n",
    "        counter += 1\n",
    "        if(counter >= limit):\n",
    "            break \n",
    "                \n",
    "    return ' '.join(summary) "
   ]
  },
  {
   "cell_type": "code",
   "execution_count": null,
   "metadata": {},
   "outputs": [],
   "source": [
    "import re\n",
    " \n",
    "Substring ='string'\n",
    " \n",
    " \n",
    "String1 ='''We are learning regex with geeksforgeeks \n",
    "         regex is very useful for string matching.\n",
    "          It is fast too.'''\n",
    "String2 ='''string We are learning regex with geeksforgeeks \n",
    "         regex is very useful for string matching.\n",
    "          It is fast too.'''\n",
    " \n",
    "# Use of re.search() Method\n",
    "print(re.search(Substring, String1, re.IGNORECASE))\n",
    "# Use of re.match() Method\n",
    "print(re.match(Substring, String1, re.IGNORECASE))\n",
    " \n",
    "# Use of re.search() Method\n",
    "print(re.search(Substring, String2, re.IGNORECASE))\n",
    "# Use of re.match() Method\n",
    "print(re.match(Substring, String2, re.IGNORECASE))"
   ]
  }
 ]
}